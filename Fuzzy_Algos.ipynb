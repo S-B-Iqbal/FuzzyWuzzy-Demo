{
 "cells": [
  {
   "cell_type": "markdown",
   "metadata": {},
   "source": [
    "# Libraries"
   ]
  },
  {
   "cell_type": "code",
   "execution_count": 34,
   "metadata": {},
   "outputs": [],
   "source": [
    "### Data Cleaning and Munging\n",
    "import numpy as np\n",
    "import pandas as pd\n",
    "\n",
    "### Interactivity\n",
    "import qgrid ## Excel style DF grid view\n",
    "\n",
    "### String Manipulation\n",
    "from string import digits, punctuation\n",
    "\n",
    "### Fuzzy String Search\n",
    "from fuzzywuzzy import fuzz, process\n",
    "\n",
    "### Spelling Correction\n",
    "from autocorrect import spell\n",
    "\n",
    "### For performing NLP related tasks\n",
    "from nltk.corpus import stopwords \n",
    "from nltk.tokenize import word_tokenize\n",
    "from nltk.stem import WordNetLemmatizer, PorterStemmer"
   ]
  },
  {
   "cell_type": "markdown",
   "metadata": {},
   "source": [
    "# Required Functions"
   ]
  },
  {
   "cell_type": "code",
   "execution_count": 2,
   "metadata": {},
   "outputs": [],
   "source": [
    "def display(df):\n",
    "    \"\"\"Function to display interactive Dataframe\"\"\"\n",
    "    qgrid_widget =qgrid.show_grid(df,\\\n",
    "                                       show_toolbar=True,precision=1, \\\n",
    "                                       grid_options={'forceFitColumns': False,\\\n",
    "                                                     'defaultColumnWidth': 150,\\\n",
    "                                                    'maxVisibleRows': 5})\n",
    "    return qgrid_widget\n",
    "\n",
    "def clean_metrics(row):\n",
    "    \"\"\"Function to remove Metric terms except for ppt.\n",
    "    It also removes the integer part associated with the string.\"\"\"\n",
    "    try:\n",
    "        word_list = [word for word in metric_stop_words if word in row]\n",
    "\n",
    "        if len(word_list) !=0:\n",
    "            token_list = word_tokenize(row)\n",
    "            no_number = [word for word in remove(token_list)] ## Remove Numbers\n",
    "            clean_list = np.setdiff1d(no_number, metric_stop_words) ## Remove Metric Words\n",
    "            final_string = ' '.join([word for word in clean_list])\n",
    "            return final_string\n",
    "        else:\n",
    "            return row\n",
    "    except TypeError:\n",
    "        return(row)\n",
    "    \n",
    "def remove(word_list):\n",
    "    \"\"\"Python Function to remove Digits from a required string\"\"\"\n",
    "    remove_digits = str.maketrans('', '', digits) \n",
    "    word_list = [i.translate(remove_digits) for i in word_list] \n",
    "    return word_list\n",
    "\n",
    "def remove_stop_words(sent):\n",
    "    \"\"\"Function to remove stopwords\"\"\"\n",
    "    word_token = word_tokenize(sent)\n",
    "    new_sent = ' '.join([word for word in word_token if word not in all_stop_words])\n",
    "    return(new_sent)\n",
    "\n",
    "def remove_punctuation(sent):\n",
    "    \"\"\"Python Function to remove punctuation from a given string\"\"\"\n",
    "    return(''.join([c for c in sent if c not in punctuation]))\n",
    "\n",
    "def spell_check(sent):\n",
    "    \"\"\"Function to rectify the spelling\"\"\"\n",
    "    spells = [spell(w) for w in word_tokenize(sent)]\n",
    "    correct_sent = ' '.join(spells)\n",
    "    \n",
    "    return(correct_sent)\n",
    "# 10 ppm = 0.001 % which is equivalent to pure Gasoil\n",
    "# Similarly 50 ppm Sulphur is treated as pure Gas Oil\n",
    "def ppm(word):\n",
    "    \"\"\"Function to convert ppm to %\"\"\"\n",
    "    \"Function to convert ppm to %\"\n",
    "    if '10ppm' in word:\n",
    "        return(word.replace('10ppm', ' '))\n",
    "    elif '10 ppm' in word:\n",
    "        return(word.replace('10 ppm', ' '))\n",
    "    elif '50 ppm' in word:\n",
    "        return(word.replace('50 ppm', ' '))\n",
    "    elif '50ppm' in word:\n",
    "        return(word.replace('50ppm', ' '))\n",
    "    elif '500ppm' in word:\n",
    "        return(word.replace('500ppm', ' 0.05 %'))\n",
    "    elif '500 ppm' in word:\n",
    "        return(word.replace('500 ppm', '0.05 %'))\n",
    "#     elif 'gasoli500ppm' in word:\n",
    "    elif '3000 ppm' in word:\n",
    "        return(word.replace('3000 ppm', ' 0.3%'))\n",
    "    else:\n",
    "        return(word)\n",
    "\n",
    "def replace_sulphur(word):\n",
    "    if 'sulphur' in word:\n",
    "        return(word.replace('sulphur', ' s'))\n",
    "    elif 'sulfur' in word:\n",
    "        return(word.replace('sulfur', ' s'))\n",
    "    else:\n",
    "        return(word)\n",
    "def replace_ambiguity(word):\n",
    "    \"\"\"Function to handle disamguous/local names for standard terms whuch are most recurring.        \n",
    "    \"\"\"\n",
    "    if 'log' in word or 'veneer' in word or 'teek' in word or 'teak' in word:\n",
    "        return(word.replace('{0}'.format(word), 'wood & timber'))\n",
    "    elif 'papao' in word or 'lumber' in word or 'gurjan' in word or 'wook ' in word or 'wood' in word \\\n",
    "    or 'venner' in word or 'vender' in word or 'meranti' in word:\n",
    "        return(word.replace('{0}'.format(word), 'wood & timber'))\n",
    "    elif 'eucalyptus' in word and 'pulp' not in word:\n",
    "        return(word.replace('{0}'.format(word), 'wood & timber'))\n",
    "    elif 'pulp' in word:\n",
    "        return(word.replace('{0}'.format(word), 'paper & pulp'))\n",
    "    elif 'paper' in word:\n",
    "        return(word.replace('{0}'.format(word), 'paper & pulp'))\n",
    "    elif 'yarn' in word or 'silk' in word:\n",
    "        return(word.replace('{0}'.format(word), 'yarn'))\n",
    "    elif 'gram' in word or 'matpe' in word or 'toor' in word:\n",
    "        return(word.replace('{0}'.format(word), 'non key commodities - beans, nuts & pulses others'))\n",
    "    elif 'arab' in word or 'arabian' in word or 'saudi' in word:\n",
    "        return(word.replace('{0}'.format(word), 'crude - saudi arabian'))\n",
    "    elif 'basrah' in word:\n",
    "        return(word.replace('{0}'.format(word), 'crude – basrah Light'))\n",
    "    elif 'tire' in word:\n",
    "        return(word.replace('{0}'.format(word), 'rubber'))\n",
    "    elif 'burkina' in word or 'burkino' in word:\n",
    "        return(word.replace('{0}'.format(word), 'cotton'))\n",
    "    elif 'glycerin' in word or 'glycol' in word:\n",
    "        return(word.replace('{0}'.format(word), 'ethylene'))\n",
    "    elif 'iron' in word:\n",
    "        if 'ore' in word:\n",
    "            return(word.replace('{0}'.format(word), 'iron ore'))\n",
    "        elif 'pig' in word:\n",
    "            return(word.replace('{0}'.format(word), 'pig iron'))\n",
    "        elif 'scrap' in word:\n",
    "            return(word.replace('{0}'.format(word), 'steel scraps'))\n",
    "        else:\n",
    "            return(word.replace('{0}'.format(word), 'iron ore'))\n",
    "    elif 'coal' in word:\n",
    "        if 'not' in word and 'coking' in word:\n",
    "            return(word.replace('{0}'.format(word), 'coal others'))\n",
    "        elif 'coking' in word and 'not' not in word:\n",
    "            return(word.replace('{0}'.format(word), 'coal - coking'))\n",
    "        elif 'steam' in word:\n",
    "            return(word.replace('{0}'.format(word), 'coal - steam'))\n",
    "        else:\n",
    "            return(word.replace('{0}'.format(word), 'coal others'))\n",
    "         \n",
    "    else:\n",
    "        return(word)\n",
    "    \n",
    "def clean_steel(word):\n",
    "    \"\"\"Function to standardize string related to steel\"\"\"\n",
    "    if 'steel' in word:\n",
    "        if 'alloy' in word: # Cleaning Alloys\n",
    "            if 'coil' in word or 'wire' in word:\n",
    "                return(word.replace('{0}'.format(word), 'stainless steel coils'))\n",
    "            elif 'bar' in word or 'rod' in word:\n",
    "                return(word.replace('{0}'.format(word), 'steel bars & rods'))\n",
    "            elif 'scrap' in word:\n",
    "                return(word.replace('{0}'.format(word), 'steel scraps'))\n",
    "            elif 'sheet' in word or 'plate' in word:\n",
    "                return(word.replace('{0}'.format(word), 'stainless steel sheets & plates'))\n",
    "            else:\n",
    "                return(word.replace('{0}'.format(word), 'steel alloy'))\n",
    "        elif 'alloy' not in word:\n",
    "            if 'alumini' in word or 'zinc' in word or 'nickel' in word or 'gal' in word:\n",
    "                return(word.replace('{0}'.format(word), 'steel alloy'))\n",
    "            elif 'bar' in word or 'rod' in word or 'pipe' in word or 'angle' in word:\n",
    "                return(word.replace('{0}'.format(word), 'steel bars & rods'))\n",
    "            elif 'billet' in word or 'cold' in word:\n",
    "                return(word.replace('{0}'.format(word), 'steel billets'))\n",
    "            elif 'coil' in word:\n",
    "                return(word.replace('{0}'.format(word), 'stainless steel coils'))\n",
    "            elif 'scrap' in word:\n",
    "                return(word.replace('{0}'.format(word), 'steel scraps'))\n",
    "            elif 'sheet' in word or 'seet' in word or 'plate' in word:\n",
    "                return(word.replace('{0}'.format(word), 'stainless steel sheets & plates'))\n",
    "            elif 'strip' in word:\n",
    "                return(word.replace('{0}'.format(word), 'steel slab'))\n",
    "        else:\n",
    "            return(word.replace('{0}'.format(word), 'steel slab'))\n",
    "    else:\n",
    "        return(word)\n",
    "def clean_oil(word):\n",
    "    \"\"\"Function to rectify oil related strings\"\"\"\n",
    "    try:\n",
    "        if ' oil ' in word:\n",
    "            if 'fuel' in word:\n",
    "                return(word.replace('{0}'.format(word), 'fuel oil'))\n",
    "            elif 'crude' in word and 'fuel' not in word:\n",
    "                if 'palm' in word and 'kernel' not in word:\n",
    "                    return(word.replace('{0}'.format(word), 'crude palm oil'))\n",
    "                elif 'palm' in word and 'kernel' in word:\n",
    "                    return(word.replace('{0}'.format(word), 'crude palm kernel oil'))\n",
    "                elif 'flower' in word:\n",
    "                    return(word.replace('{0}'.format(word), 'crude sunflower seed oil'))\n",
    "                elif 'rbd' in word:\n",
    "                    if 'palm' in word:\n",
    "                        return(word.replace('{0}'.format(word), 'rbd palm oil'))\n",
    "                    elif 'coconut' in word:\n",
    "                        return(word.replace('{0}'.format(word), 'rbd coconut oil'))\n",
    "                elif 'coconut' in word and 'rbd' not in word:\n",
    "                    return(word.replace('{0}'.format(word), 'crude coconut oil'))\n",
    "                elif 'atmospher' in word:\n",
    "                    return(word.replace('{0}'.format(word), 'energy - oil & gas others'))\n",
    "                else:\n",
    "                    return(word.replace('{0}'.format(word), 'crude oil'))\n",
    "            elif 'cooking' in word and 'palm' not in word:\n",
    "                return(word.replace('{0}'.format(word), 'agriculture - edible oils others'))\n",
    "            elif 'canola' in word:\n",
    "                return(word.replace('{0}'.format(word), 'rbd canola oil'))\n",
    "            elif 'rape' in word:\n",
    "                return(word.replace('{0}'.format(word), 'rapeseed oil'))\n",
    "            elif 'raffibate' in word or 'raffinate' in word or 'spectrasyn' in word or ' jet ' in word:\n",
    "                return(word.replace('{0}'.format(word), 'energy - oil & gas others'))\n",
    "            elif 'groundnut' in word or 'peanut' in word:\n",
    "                return(word.replace('{0}'.format(word), 'agriculture - edible oils others'))\n",
    "            elif 'coconut' in word and 'acid' in word:\n",
    "                return(word.replace('{0}'.format(word), 'refined coconut oil'))\n",
    "            elif 'soy' in word:\n",
    "                return(word.replace('{0}'.format(word), 'soybean oil'))\n",
    "\n",
    "        else:\n",
    "            return(word)\n",
    "    except TypeError:\n",
    "        return(word)\n",
    "def metric_clean(word):\n",
    "    try:\n",
    "        for metric in metric_stop_words:\n",
    "            if '{0}'.format(metric) in word and '{0}'.format(metric):\n",
    "                return(word.replace('{0}'.format(metric), ' '))\n",
    "            else:\n",
    "                return(word)\n",
    "    except TypeError:\n",
    "        return('other')\n",
    "def remove_stop_words(sent):\n",
    "    \"\"\"Function to remove stopwords\"\"\"\n",
    "    word_token = word_tokenize(sent)\n",
    "    new_sent = ' '.join([word for word in word_token if word not in all_stop_words])\n",
    "    return(new_sent)\n",
    "def spell_check(sent):\n",
    "    \"\"\"Function to rectify the spelling\"\"\"\n",
    "    spells = [spell(w) for w in word_tokenize(sent)]\n",
    "    correct_sent = ' '.join(spells)\n",
    "    \n",
    "    return(correct_sent)\n",
    "def cosine_similarity(x,y):\n",
    "    \"\"\"Function to calculate Cosine Similarity between string x and y\n",
    "    Parameters:\n",
    "    -----------\n",
    "    x : str\n",
    "    y : str\n",
    "    \n",
    "    Returns:\n",
    "    --------\n",
    "    \n",
    "    Cosine Similarity between two strings\n",
    "    \n",
    "    Example:\n",
    "    [] x = 'India'\n",
    "    [] y = 'india n'\n",
    "    \n",
    "    [] cosine_similarity(x,y)\n",
    "    \n",
    "    >>> similarity:  0.7071067811865475\n",
    "    \"\"\"\n",
    "    x_list = word_tokenize(x.lower())\n",
    "    y_list = word_tokenize(y.lower())\n",
    "    \n",
    "    # sw contains the list of stopwords\n",
    "    sw = stopwords.words('english')\n",
    "    \n",
    "    l1,l2 = [], []\n",
    "    # remove stop words from string \n",
    "    X_set = {w for w in x_list if not w in sw}  \n",
    "    Y_set = {w for w in y_list if not w in sw}\n",
    "      \n",
    "    # form a set containing keywords of both strings\n",
    "    rvector = X_set.union(Y_set)  \n",
    "    for w in rvector: \n",
    "        if w in X_set: l1.append(1) # create a vector \n",
    "        else: l1.append(0) \n",
    "        if w in Y_set: l2.append(1) \n",
    "        else: l2.append(0) \n",
    "    c = 0\n",
    "    \n",
    "    # cosine formula\n",
    "    for i in range(len(rvector)): \n",
    "        c+= l1[i]*l2[i] \n",
    "    cosine = c / float((sum(l1)*sum(l2))**0.5) \n",
    "    print(\"similarity: \", cosine) "
   ]
  },
  {
   "cell_type": "markdown",
   "metadata": {},
   "source": [
    "# Data Loading "
   ]
  },
  {
   "cell_type": "code",
   "execution_count": 3,
   "metadata": {},
   "outputs": [],
   "source": [
    "train = pd.read_excel('Interview_Dataset.xlsx', sheet_name=0, engine='xlrd')\n",
    "test = pd.read_excel('Interview_Dataset.xlsx', sheet_name=1,engine='xlrd')"
   ]
  },
  {
   "cell_type": "code",
   "execution_count": 4,
   "metadata": {},
   "outputs": [
    {
     "data": {
      "text/plain": [
       "Index(['Sno', 'CODE DESCRIPTION', 'CODE', 'AP221 Prod Imex Code'], dtype='object')"
      ]
     },
     "execution_count": 4,
     "metadata": {},
     "output_type": "execute_result"
    }
   ],
   "source": [
    "train.columns"
   ]
  },
  {
   "cell_type": "code",
   "execution_count": 5,
   "metadata": {},
   "outputs": [
    {
     "name": "stdout",
     "output_type": "stream",
     "text": [
      "Sno : 152\n",
      "CODE DESCRIPTION : 148\n",
      "CODE : 152\n",
      "AP221 Prod Imex Code : 152\n"
     ]
    }
   ],
   "source": [
    "## Find Unique Values for each column\n",
    "for col in train.columns:\n",
    "    print(\"{0} : {1}\".format(col, train[col].nunique()))"
   ]
  },
  {
   "cell_type": "markdown",
   "metadata": {},
   "source": [
    "- Renaming Train Columns:\n",
    "    - 'Code Description' : 'Description'\n",
    "    - 'CODE': 'Code'\n",
    "    - Dropping the 'AP221 Prod Inex Code' column as it is a repetition of 'CODE' column."
   ]
  },
  {
   "cell_type": "code",
   "execution_count": 6,
   "metadata": {},
   "outputs": [],
   "source": [
    "train = train.drop(columns=['AP221 Prod Imex Code'], axis=1)"
   ]
  },
  {
   "cell_type": "code",
   "execution_count": 7,
   "metadata": {},
   "outputs": [],
   "source": [
    "train.columns = ['Sno', 'Description', 'Code']"
   ]
  },
  {
   "cell_type": "code",
   "execution_count": 8,
   "metadata": {
    "scrolled": false
   },
   "outputs": [
    {
     "name": "stdout",
     "output_type": "stream",
     "text": [
      "Deal Dynamic Data Entry 2\n",
      "(Good Description input by user from application form) : 3583\n",
      "Code : 0\n",
      "Description : 0\n"
     ]
    }
   ],
   "source": [
    "## Find Unique Values for each column\n",
    "for col in test.columns:\n",
    "    print(\"{0} : {1}\".format(col, test[col].nunique()))"
   ]
  },
  {
   "cell_type": "code",
   "execution_count": 9,
   "metadata": {},
   "outputs": [],
   "source": [
    "## Renaming Test Columns for consistency\n",
    "\n",
    "test.columns = ['Item_Name', 'Code', 'Description']"
   ]
  },
  {
   "cell_type": "markdown",
   "metadata": {},
   "source": [
    "# Data Pre-Processing"
   ]
  },
  {
   "cell_type": "markdown",
   "metadata": {},
   "source": [
    "## Removing Case Sensitivity"
   ]
  },
  {
   "cell_type": "code",
   "execution_count": 10,
   "metadata": {},
   "outputs": [],
   "source": [
    "train['Description'] = train['Description'].str.lower()\n",
    "\n",
    "test['Item_Name2'] = test['Item_Name'].str.lower() # Creating a duplicate column"
   ]
  },
  {
   "cell_type": "markdown",
   "metadata": {},
   "source": [
    "- Creating a Data Dictionary for Training Data\n",
    "    - Key :  'Code Description' column from 'Consolidated Codes' sheet.\n",
    "    - Values : 'Code' column from 'Consolidated Codes' sheet."
   ]
  },
  {
   "cell_type": "code",
   "execution_count": 11,
   "metadata": {},
   "outputs": [],
   "source": [
    "code_dict = {str(desc): code for code, desc in zip(train['Code'], train['Description'])}"
   ]
  },
  {
   "cell_type": "markdown",
   "metadata": {},
   "source": [
    "## Test Data standardization\n",
    "\n",
    "- The goal is to shorten the string and bring syntactically close to 'Code Description' in 'Consolidated Codes' sheet."
   ]
  },
  {
   "cell_type": "markdown",
   "metadata": {},
   "source": [
    "### Convert 'pct' to '%'"
   ]
  },
  {
   "cell_type": "code",
   "execution_count": 12,
   "metadata": {},
   "outputs": [],
   "source": [
    "test['Item_Name2'] = test['Item_Name2'].apply(lambda x: x.replace('pct', ' pct')) ## creating space in terms such as 100pct\n",
    "test['Item_Name2'] = test['Item_Name2'].apply(lambda x: x.replace('pct', '%')) "
   ]
  },
  {
   "cell_type": "markdown",
   "metadata": {},
   "source": [
    "### Convert 'ppm' to %\n",
    "\n",
    "- 10000 ppm = 1 %\n",
    "- Required for dealing with Items mainy under Crude Oil domain."
   ]
  },
  {
   "cell_type": "code",
   "execution_count": 13,
   "metadata": {},
   "outputs": [],
   "source": []
  },
  {
   "cell_type": "code",
   "execution_count": 14,
   "metadata": {},
   "outputs": [],
   "source": [
    "test['Item_Name2'] = test['Item_Name2'].apply(lambda x: ppm(x))\n",
    "test['Item_Name2'] = test['Item_Name2'].apply(lambda x: replace_sulphur(x))\n",
    "test['Item_Name2'] = test['Item_Name2'].apply(lambda x: replace_ambiguity(x))\n",
    "test['Item_Name2'] = test['Item_Name2'].apply(lambda x: clean_steel(x))\n",
    "test['Item_Name2'] = test['Item_Name2'].apply(lambda x: clean_oil(x))"
   ]
  },
  {
   "cell_type": "code",
   "execution_count": 15,
   "metadata": {},
   "outputs": [
    {
     "data": {
      "text/plain": [
       "2325"
      ]
     },
     "execution_count": 15,
     "metadata": {},
     "output_type": "execute_result"
    }
   ],
   "source": [
    "test.Item_Name2.nunique()"
   ]
  },
  {
   "cell_type": "code",
   "execution_count": null,
   "metadata": {},
   "outputs": [],
   "source": []
  },
  {
   "cell_type": "markdown",
   "metadata": {},
   "source": [
    "### Removal of Numbers with Metrics. \n",
    "- Ex: Converting '10 MT Coal' to 'Coal'."
   ]
  },
  {
   "cell_type": "code",
   "execution_count": 16,
   "metadata": {},
   "outputs": [],
   "source": [
    "# Create a stop-list of Metric Terms\n",
    "metric_stop_words = ['kg', 'laps', 'days', 'bbls', ' mt ' ]"
   ]
  },
  {
   "cell_type": "code",
   "execution_count": 17,
   "metadata": {},
   "outputs": [],
   "source": [
    "\n"
   ]
  },
  {
   "cell_type": "code",
   "execution_count": 18,
   "metadata": {},
   "outputs": [],
   "source": [
    "test['Item_Name2'] = test['Item_Name2'].apply(lambda x: clean_metrics(x)) ## Removing Numbers attached to Metrics\n",
    "\n",
    "test['Item_Name2'] = test['Item_Name2'].apply(lambda x: metric_clean(x)) ## Removing Metrics Term"
   ]
  },
  {
   "cell_type": "code",
   "execution_count": null,
   "metadata": {},
   "outputs": [],
   "source": []
  },
  {
   "cell_type": "markdown",
   "metadata": {},
   "source": [
    "## Sentence Cleaning"
   ]
  },
  {
   "cell_type": "markdown",
   "metadata": {},
   "source": [
    "### Stop Word Removal"
   ]
  },
  {
   "cell_type": "code",
   "execution_count": 19,
   "metadata": {},
   "outputs": [],
   "source": [
    "common_stop_words = stopwords.words('english')\n",
    "\n",
    "country_stop_words = ['africa','african','algeria','algerian', 'argentiina', 'argentina', 'argentine','argentinian', 'australian', 'australia'\\\n",
    "                     'austrla', 'vietnam','bolivian', 'brabilian','brazilian','brazaillian', 'brazil','brazilian','brazillian', 'cameroon','canada','canadian',\\\n",
    "                     'cananea','cabinda','carajas','desi','eldorado','alaska','malaysian','vietnamese','vietnam','uzbekistan','uruguay', 'ukraine','ukranian',\\\n",
    "                     'ugandan','turkmenistan','thai','thailand','malaysia','indonesian', 'indonesia', 'papua new ginea']\n",
    "all_stop_words = np.hstack([common_stop_words, country_stop_words])\n",
    "# all_stop_words"
   ]
  },
  {
   "cell_type": "code",
   "execution_count": 20,
   "metadata": {},
   "outputs": [],
   "source": []
  },
  {
   "cell_type": "code",
   "execution_count": 21,
   "metadata": {},
   "outputs": [],
   "source": [
    "test['Item_Name2'] = test['Item_Name2'].apply(lambda x: remove_stop_words(x))"
   ]
  },
  {
   "cell_type": "markdown",
   "metadata": {},
   "source": [
    "### Spell Correction"
   ]
  },
  {
   "cell_type": "code",
   "execution_count": 23,
   "metadata": {},
   "outputs": [],
   "source": [
    "test['Item_Name2'] = test['Item_Name2'].apply(lambda x: spell_check(x))"
   ]
  },
  {
   "cell_type": "code",
   "execution_count": null,
   "metadata": {},
   "outputs": [],
   "source": []
  },
  {
   "cell_type": "markdown",
   "metadata": {},
   "source": [
    "# Model Selection \n",
    "\n",
    "- Method-1: Ratio based string matching\n",
    "- Method-2: Partial Ratio based string matching\n",
    "- Method-3: Token Sort Ratio based string matching\n",
    "- Method-4: Token Set ratio based string matching"
   ]
  },
  {
   "cell_type": "markdown",
   "metadata": {},
   "source": [
    "## Sample Selection from Test Set\n",
    "\n",
    "- A Sample of 100 random items is selected from Test-Set for analyzing and comparing the performance of various algorithms."
   ]
  },
  {
   "cell_type": "code",
   "execution_count": null,
   "metadata": {},
   "outputs": [],
   "source": [
    "test_sample = test.sample(n=100)"
   ]
  },
  {
   "cell_type": "markdown",
   "metadata": {},
   "source": [
    "## Model 1:  Based on Ratio"
   ]
  },
  {
   "cell_type": "code",
   "execution_count": null,
   "metadata": {
    "scrolled": true
   },
   "outputs": [],
   "source": [
    "for val in test_sample['Item_Name']:\n",
    "    print(process.extractOne(val, list(code_dict.keys()), scorer= fuzz.ratio), val)"
   ]
  },
  {
   "cell_type": "markdown",
   "metadata": {},
   "source": [
    "**On a random sample of 100 Items, 41 are classified correctly. Hence, Model accuracy on Validation Set == 41%**"
   ]
  },
  {
   "cell_type": "markdown",
   "metadata": {},
   "source": [
    "## Model 2: Based on Partial Ratio"
   ]
  },
  {
   "cell_type": "code",
   "execution_count": null,
   "metadata": {
    "scrolled": true
   },
   "outputs": [],
   "source": [
    "for val in test_sample['Item_Name']:\n",
    "    print(process.extractOne(val, list(code_dict.keys()), scorer= fuzz.partial_ratio), val)"
   ]
  },
  {
   "cell_type": "markdown",
   "metadata": {},
   "source": [
    "**Model Accuracy = 47%**"
   ]
  },
  {
   "cell_type": "markdown",
   "metadata": {},
   "source": [
    "## Model 3: Based on Token Sort Ratio"
   ]
  },
  {
   "cell_type": "code",
   "execution_count": null,
   "metadata": {},
   "outputs": [],
   "source": [
    "for val in test_sample['Item_Name']:\n",
    "    print(process.extractOne(val, list(code_dict.keys()), scorer= fuzz.token_sort_ratio), val)"
   ]
  },
  {
   "cell_type": "markdown",
   "metadata": {},
   "source": [
    "**Model Accuracy = 43%**"
   ]
  },
  {
   "cell_type": "markdown",
   "metadata": {},
   "source": [
    "## Model 4: Based on Token Set Ratio"
   ]
  },
  {
   "cell_type": "code",
   "execution_count": null,
   "metadata": {
    "scrolled": true
   },
   "outputs": [],
   "source": [
    "for val in test_sample['Item_Name']:\n",
    "    print(process.extractOne(val, list(code_dict.keys()), scorer= fuzz.token_set_ratio), val)"
   ]
  },
  {
   "cell_type": "markdown",
   "metadata": {},
   "source": [
    "**Model Accuracy = 53%**"
   ]
  },
  {
   "cell_type": "markdown",
   "metadata": {},
   "source": [
    "## Model 5: Based on WRatio"
   ]
  },
  {
   "cell_type": "code",
   "execution_count": null,
   "metadata": {
    "scrolled": true
   },
   "outputs": [],
   "source": [
    "for val in test_sample['Item_Name']:\n",
    "    value = process.extractOne(val, list(code_dict.keys()), scorer= (fuzz.WRatio))\n",
    "    try:\n",
    "        print(value, val)\n",
    "    except TypeError:\n",
    "        pass"
   ]
  },
  {
   "cell_type": "markdown",
   "metadata": {},
   "source": [
    "**Model Accuracy = 49%**"
   ]
  },
  {
   "cell_type": "markdown",
   "metadata": {},
   "source": [
    "## Model Selection\n",
    "\n",
    "- Based on accuracy assessment of 5 fuzzy-search algorithms, 'Token Set Ratio' performs better than other Algorithms. Hence, it will be the model of choice."
   ]
  },
  {
   "cell_type": "markdown",
   "metadata": {},
   "source": [
    "### Model Prediction"
   ]
  },
  {
   "cell_type": "code",
   "execution_count": 27,
   "metadata": {},
   "outputs": [
    {
     "name": "stderr",
     "output_type": "stream",
     "text": [
      "WARNING:root:Applied processor reduces input query to empty string, all comparisons will have score 0. [Query: '']\n",
      "WARNING:root:Applied processor reduces input query to empty string, all comparisons will have score 0. [Query: '']\n",
      "WARNING:root:Applied processor reduces input query to empty string, all comparisons will have score 0. [Query: '']\n",
      "WARNING:root:Applied processor reduces input query to empty string, all comparisons will have score 0. [Query: '']\n",
      "WARNING:root:Applied processor reduces input query to empty string, all comparisons will have score 0. [Query: '']\n",
      "WARNING:root:Applied processor reduces input query to empty string, all comparisons will have score 0. [Query: '']\n",
      "WARNING:root:Applied processor reduces input query to empty string, all comparisons will have score 0. [Query: '']\n",
      "WARNING:root:Applied processor reduces input query to empty string, all comparisons will have score 0. [Query: '']\n",
      "WARNING:root:Applied processor reduces input query to empty string, all comparisons will have score 0. [Query: '']\n",
      "WARNING:root:Applied processor reduces input query to empty string, all comparisons will have score 0. [Query: '']\n",
      "WARNING:root:Applied processor reduces input query to empty string, all comparisons will have score 0. [Query: '']\n",
      "WARNING:root:Applied processor reduces input query to empty string, all comparisons will have score 0. [Query: '']\n",
      "WARNING:root:Applied processor reduces input query to empty string, all comparisons will have score 0. [Query: '']\n",
      "WARNING:root:Applied processor reduces input query to empty string, all comparisons will have score 0. [Query: '']\n",
      "WARNING:root:Applied processor reduces input query to empty string, all comparisons will have score 0. [Query: '']\n",
      "WARNING:root:Applied processor reduces input query to empty string, all comparisons will have score 0. [Query: '']\n",
      "WARNING:root:Applied processor reduces input query to empty string, all comparisons will have score 0. [Query: '']\n",
      "WARNING:root:Applied processor reduces input query to empty string, all comparisons will have score 0. [Query: '']\n",
      "WARNING:root:Applied processor reduces input query to empty string, all comparisons will have score 0. [Query: '']\n",
      "WARNING:root:Applied processor reduces input query to empty string, all comparisons will have score 0. [Query: '']\n",
      "WARNING:root:Applied processor reduces input query to empty string, all comparisons will have score 0. [Query: '']\n",
      "WARNING:root:Applied processor reduces input query to empty string, all comparisons will have score 0. [Query: '']\n",
      "WARNING:root:Applied processor reduces input query to empty string, all comparisons will have score 0. [Query: '']\n",
      "WARNING:root:Applied processor reduces input query to empty string, all comparisons will have score 0. [Query: '']\n",
      "WARNING:root:Applied processor reduces input query to empty string, all comparisons will have score 0. [Query: '']\n",
      "WARNING:root:Applied processor reduces input query to empty string, all comparisons will have score 0. [Query: '']\n",
      "WARNING:root:Applied processor reduces input query to empty string, all comparisons will have score 0. [Query: '']\n",
      "WARNING:root:Applied processor reduces input query to empty string, all comparisons will have score 0. [Query: '']\n",
      "WARNING:root:Applied processor reduces input query to empty string, all comparisons will have score 0. [Query: '']\n",
      "WARNING:root:Applied processor reduces input query to empty string, all comparisons will have score 0. [Query: '']\n",
      "WARNING:root:Applied processor reduces input query to empty string, all comparisons will have score 0. [Query: '']\n",
      "WARNING:root:Applied processor reduces input query to empty string, all comparisons will have score 0. [Query: '']\n",
      "WARNING:root:Applied processor reduces input query to empty string, all comparisons will have score 0. [Query: '']\n",
      "WARNING:root:Applied processor reduces input query to empty string, all comparisons will have score 0. [Query: '']\n",
      "WARNING:root:Applied processor reduces input query to empty string, all comparisons will have score 0. [Query: '']\n",
      "WARNING:root:Applied processor reduces input query to empty string, all comparisons will have score 0. [Query: '']\n",
      "WARNING:root:Applied processor reduces input query to empty string, all comparisons will have score 0. [Query: '']\n",
      "WARNING:root:Applied processor reduces input query to empty string, all comparisons will have score 0. [Query: '']\n",
      "WARNING:root:Applied processor reduces input query to empty string, all comparisons will have score 0. [Query: '']\n",
      "WARNING:root:Applied processor reduces input query to empty string, all comparisons will have score 0. [Query: '']\n",
      "WARNING:root:Applied processor reduces input query to empty string, all comparisons will have score 0. [Query: '']\n",
      "WARNING:root:Applied processor reduces input query to empty string, all comparisons will have score 0. [Query: '']\n",
      "WARNING:root:Applied processor reduces input query to empty string, all comparisons will have score 0. [Query: '']\n",
      "WARNING:root:Applied processor reduces input query to empty string, all comparisons will have score 0. [Query: '']\n",
      "WARNING:root:Applied processor reduces input query to empty string, all comparisons will have score 0. [Query: '']\n",
      "WARNING:root:Applied processor reduces input query to empty string, all comparisons will have score 0. [Query: '']\n",
      "WARNING:root:Applied processor reduces input query to empty string, all comparisons will have score 0. [Query: '']\n",
      "WARNING:root:Applied processor reduces input query to empty string, all comparisons will have score 0. [Query: '']\n",
      "WARNING:root:Applied processor reduces input query to empty string, all comparisons will have score 0. [Query: '']\n",
      "WARNING:root:Applied processor reduces input query to empty string, all comparisons will have score 0. [Query: '']\n",
      "WARNING:root:Applied processor reduces input query to empty string, all comparisons will have score 0. [Query: '']\n",
      "WARNING:root:Applied processor reduces input query to empty string, all comparisons will have score 0. [Query: '']\n",
      "WARNING:root:Applied processor reduces input query to empty string, all comparisons will have score 0. [Query: '']\n",
      "WARNING:root:Applied processor reduces input query to empty string, all comparisons will have score 0. [Query: '']\n",
      "WARNING:root:Applied processor reduces input query to empty string, all comparisons will have score 0. [Query: '']\n",
      "WARNING:root:Applied processor reduces input query to empty string, all comparisons will have score 0. [Query: '']\n",
      "WARNING:root:Applied processor reduces input query to empty string, all comparisons will have score 0. [Query: '']\n",
      "WARNING:root:Applied processor reduces input query to empty string, all comparisons will have score 0. [Query: '']\n",
      "WARNING:root:Applied processor reduces input query to empty string, all comparisons will have score 0. [Query: '']\n",
      "WARNING:root:Applied processor reduces input query to empty string, all comparisons will have score 0. [Query: '']\n",
      "WARNING:root:Applied processor reduces input query to empty string, all comparisons will have score 0. [Query: '']\n",
      "WARNING:root:Applied processor reduces input query to empty string, all comparisons will have score 0. [Query: '']\n",
      "WARNING:root:Applied processor reduces input query to empty string, all comparisons will have score 0. [Query: '']\n",
      "WARNING:root:Applied processor reduces input query to empty string, all comparisons will have score 0. [Query: '']\n",
      "WARNING:root:Applied processor reduces input query to empty string, all comparisons will have score 0. [Query: '']\n",
      "WARNING:root:Applied processor reduces input query to empty string, all comparisons will have score 0. [Query: '']\n",
      "WARNING:root:Applied processor reduces input query to empty string, all comparisons will have score 0. [Query: '']\n",
      "WARNING:root:Applied processor reduces input query to empty string, all comparisons will have score 0. [Query: '']\n",
      "WARNING:root:Applied processor reduces input query to empty string, all comparisons will have score 0. [Query: '']\n",
      "WARNING:root:Applied processor reduces input query to empty string, all comparisons will have score 0. [Query: '']\n",
      "WARNING:root:Applied processor reduces input query to empty string, all comparisons will have score 0. [Query: '']\n",
      "WARNING:root:Applied processor reduces input query to empty string, all comparisons will have score 0. [Query: '']\n"
     ]
    },
    {
     "name": "stderr",
     "output_type": "stream",
     "text": [
      "WARNING:root:Applied processor reduces input query to empty string, all comparisons will have score 0. [Query: '']\n",
      "WARNING:root:Applied processor reduces input query to empty string, all comparisons will have score 0. [Query: '']\n",
      "WARNING:root:Applied processor reduces input query to empty string, all comparisons will have score 0. [Query: '']\n",
      "WARNING:root:Applied processor reduces input query to empty string, all comparisons will have score 0. [Query: '']\n",
      "WARNING:root:Applied processor reduces input query to empty string, all comparisons will have score 0. [Query: '']\n",
      "WARNING:root:Applied processor reduces input query to empty string, all comparisons will have score 0. [Query: '']\n",
      "WARNING:root:Applied processor reduces input query to empty string, all comparisons will have score 0. [Query: '']\n",
      "WARNING:root:Applied processor reduces input query to empty string, all comparisons will have score 0. [Query: '']\n",
      "WARNING:root:Applied processor reduces input query to empty string, all comparisons will have score 0. [Query: '']\n",
      "WARNING:root:Applied processor reduces input query to empty string, all comparisons will have score 0. [Query: '']\n"
     ]
    }
   ],
   "source": [
    "predictions = []\n",
    "for term in test.Item_Name2:\n",
    "    value = process.extractOne(term, list(code_dict.keys()), scorer= (fuzz.token_set_ratio), score_cutoff=50)\n",
    "    try:\n",
    "        predictions.append(value[0])\n",
    "    except TypeError:\n",
    "        predictions.append('others')"
   ]
  },
  {
   "cell_type": "code",
   "execution_count": 28,
   "metadata": {},
   "outputs": [],
   "source": [
    "test['Description'] = predictions"
   ]
  },
  {
   "cell_type": "code",
   "execution_count": 29,
   "metadata": {},
   "outputs": [],
   "source": [
    "def code(term):\n",
    "    \"\"\"Map code Dictionary with the Term\"\"\"\n",
    "    code = code_dict[term]\n",
    "    return(code)"
   ]
  },
  {
   "cell_type": "code",
   "execution_count": 30,
   "metadata": {},
   "outputs": [],
   "source": [
    "test['Code'] = test['Description'].apply(lambda x: code(x))"
   ]
  },
  {
   "cell_type": "code",
   "execution_count": 31,
   "metadata": {},
   "outputs": [
    {
     "data": {
      "text/html": [
       "<div>\n",
       "<style scoped>\n",
       "    .dataframe tbody tr th:only-of-type {\n",
       "        vertical-align: middle;\n",
       "    }\n",
       "\n",
       "    .dataframe tbody tr th {\n",
       "        vertical-align: top;\n",
       "    }\n",
       "\n",
       "    .dataframe thead th {\n",
       "        text-align: right;\n",
       "    }\n",
       "</style>\n",
       "<table border=\"1\" class=\"dataframe\">\n",
       "  <thead>\n",
       "    <tr style=\"text-align: right;\">\n",
       "      <th></th>\n",
       "      <th>Item_Name</th>\n",
       "      <th>Code</th>\n",
       "      <th>Description</th>\n",
       "      <th>Item_Name2</th>\n",
       "    </tr>\n",
       "  </thead>\n",
       "  <tbody>\n",
       "    <tr>\n",
       "      <th>0</th>\n",
       "      <td>ART PAPER MATT</td>\n",
       "      <td>580000</td>\n",
       "      <td>paper &amp; pulp</td>\n",
       "      <td>paper a pulp</td>\n",
       "    </tr>\n",
       "    <tr>\n",
       "      <th>1</th>\n",
       "      <td>PAPER</td>\n",
       "      <td>580000</td>\n",
       "      <td>paper &amp; pulp</td>\n",
       "      <td>paper a pulp</td>\n",
       "    </tr>\n",
       "    <tr>\n",
       "      <th>2</th>\n",
       "      <td>2 SIDE COATED PAPER</td>\n",
       "      <td>580000</td>\n",
       "      <td>paper &amp; pulp</td>\n",
       "      <td>paper a pulp</td>\n",
       "    </tr>\n",
       "    <tr>\n",
       "      <th>3</th>\n",
       "      <td>ART CARTON C2S GLOSS PAPER</td>\n",
       "      <td>580000</td>\n",
       "      <td>paper &amp; pulp</td>\n",
       "      <td>paper a pulp</td>\n",
       "    </tr>\n",
       "    <tr>\n",
       "      <th>4</th>\n",
       "      <td>MALAYSIAN PLYWOOD SHEETS</td>\n",
       "      <td>580100</td>\n",
       "      <td>wood &amp; timber</td>\n",
       "      <td>wood a timber</td>\n",
       "    </tr>\n",
       "    <tr>\n",
       "      <th>5</th>\n",
       "      <td>corrugating medium paper</td>\n",
       "      <td>580000</td>\n",
       "      <td>paper &amp; pulp</td>\n",
       "      <td>paper a pulp</td>\n",
       "    </tr>\n",
       "    <tr>\n",
       "      <th>6</th>\n",
       "      <td>ADMT</td>\n",
       "      <td>981100</td>\n",
       "      <td>tx mix</td>\n",
       "      <td>admit</td>\n",
       "    </tr>\n",
       "    <tr>\n",
       "      <th>7</th>\n",
       "      <td>BLEACH EUCALYPTUS KRAFT PULP</td>\n",
       "      <td>580000</td>\n",
       "      <td>paper &amp; pulp</td>\n",
       "      <td>paper a pulp</td>\n",
       "    </tr>\n",
       "    <tr>\n",
       "      <th>8</th>\n",
       "      <td>bleached bagasse pulp</td>\n",
       "      <td>580000</td>\n",
       "      <td>paper &amp; pulp</td>\n",
       "      <td>paper a pulp</td>\n",
       "    </tr>\n",
       "    <tr>\n",
       "      <th>9</th>\n",
       "      <td>ELDORADO EUCALYPTUS BLEACHED</td>\n",
       "      <td>580100</td>\n",
       "      <td>wood &amp; timber</td>\n",
       "      <td>wood a timber</td>\n",
       "    </tr>\n",
       "  </tbody>\n",
       "</table>\n",
       "</div>"
      ],
      "text/plain": [
       "                        Item_Name    Code    Description     Item_Name2\n",
       "0  ART PAPER MATT                  580000   paper & pulp   paper a pulp\n",
       "1  PAPER                           580000   paper & pulp   paper a pulp\n",
       "2  2 SIDE COATED PAPER             580000   paper & pulp   paper a pulp\n",
       "3  ART CARTON C2S GLOSS PAPER      580000   paper & pulp   paper a pulp\n",
       "4  MALAYSIAN PLYWOOD SHEETS        580100  wood & timber  wood a timber\n",
       "5  corrugating medium paper        580000   paper & pulp   paper a pulp\n",
       "6  ADMT                            981100         tx mix          admit\n",
       "7  BLEACH EUCALYPTUS KRAFT PULP    580000   paper & pulp   paper a pulp\n",
       "8  bleached bagasse pulp           580000   paper & pulp   paper a pulp\n",
       "9  ELDORADO EUCALYPTUS BLEACHED    580100  wood & timber  wood a timber"
      ]
     },
     "execution_count": 31,
     "metadata": {},
     "output_type": "execute_result"
    }
   ],
   "source": [
    "test.head(10)"
   ]
  },
  {
   "cell_type": "code",
   "execution_count": 32,
   "metadata": {},
   "outputs": [],
   "source": [
    "test = test.drop(columns=['Item_Name2'], axis=1)"
   ]
  },
  {
   "cell_type": "markdown",
   "metadata": {},
   "source": [
    "# Results"
   ]
  },
  {
   "cell_type": "markdown",
   "metadata": {},
   "source": [
    "## Save Output in an Excel Format"
   ]
  },
  {
   "cell_type": "code",
   "execution_count": 33,
   "metadata": {},
   "outputs": [],
   "source": [
    "test.to_excel('Results.xlsx', sheet_name='Output')"
   ]
  },
  {
   "cell_type": "code",
   "execution_count": null,
   "metadata": {},
   "outputs": [],
   "source": []
  }
 ],
 "metadata": {
  "kernelspec": {
   "display_name": "Python 3",
   "language": "python",
   "name": "python3"
  },
  "language_info": {
   "codemirror_mode": {
    "name": "ipython",
    "version": 3
   },
   "file_extension": ".py",
   "mimetype": "text/x-python",
   "name": "python",
   "nbconvert_exporter": "python",
   "pygments_lexer": "ipython3",
   "version": "3.6.8"
  },
  "toc": {
   "base_numbering": 1,
   "nav_menu": {},
   "number_sections": true,
   "sideBar": true,
   "skip_h1_title": false,
   "title_cell": "Table of Contents",
   "title_sidebar": "Contents",
   "toc_cell": false,
   "toc_position": {
    "height": "622.667px",
    "left": "51px",
    "top": "131.556px",
    "width": "341.306px"
   },
   "toc_section_display": true,
   "toc_window_display": true
  }
 },
 "nbformat": 4,
 "nbformat_minor": 2
}
